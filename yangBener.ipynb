{
 "cells": [
  {
   "cell_type": "code",
   "execution_count": 97,
   "metadata": {},
   "outputs": [],
   "source": [
    "import numpy as np\n",
    "import os\n",
    "import json\n",
    "import scipy.io.wavfile as wav\n",
    "from scipy.fftpack import dct\n",
    "import matplotlib.pyplot as plt\n",
    "\n",
    "import tensorflow as tf\n",
    "from keras.utils import to_categorical\n",
    "from tensorflow.keras.preprocessing import sequence\n",
    "from tensorflow.keras.models import Sequential\n",
    "from tensorflow.keras.layers import Dense, Flatten, Conv2D, MaxPooling2D, Dropout, BatchNormalization\n",
    "import matplotlib.pyplot as plt\n",
    "import random\n",
    "\n",
    "from sklearn.model_selection import train_test_split\n",
    "from sklearn import metrics\n",
    "from sklearn.metrics import *"
   ]
  },
  {
   "cell_type": "markdown",
   "metadata": {},
   "source": [
    "Define the GFCC Extractor"
   ]
  },
  {
   "cell_type": "code",
   "execution_count": 98,
   "metadata": {},
   "outputs": [],
   "source": [
    "def erb_bandwidth(f):\n",
    "    return 24.7 * (4.37e-3 * f + 1.0)\n",
    "\n",
    "def gammatone_filter(f, f_center, sr, NFFT):\n",
    "    t = np.linspace(0, 1, sr)[:NFFT // 2 + 1]\n",
    "    gamma_tone = np.power(t, 3) * np.exp(-2 * np.pi * erb_bandwidth(f_center) * t) * np.cos(2 * np.pi * f * t)\n",
    "    return np.abs(np.fft.rfft(gamma_tone, NFFT)[:NFFT // 2 + 1])\n",
    "\n",
    "def make_gammatone_filterbank(nfilt, NFFT, sr):\n",
    "    fmin = 20\n",
    "    fmax = sr / 2\n",
    "    fcenter = np.geomspace(fmin, fmax, nfilt)\n",
    "    gt_filters = np.zeros((nfilt, NFFT // 2 + 1))\n",
    "    for i in range(nfilt):\n",
    "        gt_filters[i] = gammatone_filter(fcenter[i], fcenter[i], sr, NFFT)\n",
    "    return gt_filters\n",
    "\n",
    "def extract_gfcc(audio_file, n_gfcc=13):\n",
    "    # Load the audio file using scipy\n",
    "    sr, y = wav.read(audio_file)\n",
    "\n",
    "    # Pre-emphasis\n",
    "    pre_emphasis = 0.97\n",
    "    emphasized_signal = np.append(y[0], y[1:] - pre_emphasis * y[:-1])\n",
    "\n",
    "    # Framing\n",
    "    frame_size = 0.025\n",
    "    frame_stride = 0.01\n",
    "    frame_length, frame_step = frame_size * sr, frame_stride * sr\n",
    "    signal_length = len(emphasized_signal)\n",
    "    frame_length = int(round(frame_length))\n",
    "    frame_step = int(round(frame_step))\n",
    "    num_frames = int(np.ceil(float(np.abs(signal_length - frame_length)) / frame_step))\n",
    "\n",
    "    pad_signal_length = num_frames * frame_step + frame_length\n",
    "    z = np.zeros((pad_signal_length - signal_length))\n",
    "    pad_signal = np.append(emphasized_signal, z)\n",
    "\n",
    "    indices = np.tile(np.arange(0, frame_length), (num_frames, 1)) + np.tile(\n",
    "        np.arange(0, num_frames * frame_step, frame_step), (frame_length, 1)).T\n",
    "    frames = pad_signal[indices.astype(np.int32, copy=False)]\n",
    "\n",
    "    # Windowing\n",
    "    frames *= np.hamming(frame_length)\n",
    "\n",
    "    # Fourier Transform and Power Spectrum\n",
    "    NFFT = 512\n",
    "    mag_frames = np.absolute(np.fft.rfft(frames, NFFT))\n",
    "    pow_frames = ((1.0 / NFFT) * ((mag_frames) ** 2))\n",
    "\n",
    "    # Gammatone Filter Bank\n",
    "    nfilt = 40\n",
    "    gt_filters = make_gammatone_filterbank(nfilt, NFFT, sr)\n",
    "    filter_banks = np.dot(pow_frames, gt_filters.T)\n",
    "    filter_banks = np.where(filter_banks == 0, np.finfo(float).eps, filter_banks)\n",
    "    filter_banks = 20 * np.log10(filter_banks)\n",
    "\n",
    "    # DCT to get GFCC\n",
    "    gfcc = dct(filter_banks, type=2, axis=1, norm='ortho')[:, 1: (n_gfcc + 1)]\n",
    "\n",
    "    return gfcc"
   ]
  },
  {
   "cell_type": "markdown",
   "metadata": {},
   "source": [
    "Extract features with GFCC and Save to JSON"
   ]
  },
  {
   "cell_type": "code",
   "execution_count": 99,
   "metadata": {},
   "outputs": [
    {
     "name": "stdout",
     "output_type": "stream",
     "text": [
      "(9472, 98, 13)\n",
      "(9472,)\n"
     ]
    }
   ],
   "source": [
    "def main():\n",
    "    # Directory containing audio files\n",
    "    base_dir = \"./dataset\"\n",
    "\n",
    "    # Dictionary to store GFCC features for each audio file\n",
    "    features = []\n",
    "    labels = []\n",
    "    \n",
    "    # Mapping of conditions to labels\n",
    "    unique_conditions = ['go', 'stop', 'right', 'left']\n",
    "    condition_to_label = {condition: index for index, condition in enumerate(unique_conditions)}\n",
    "\n",
    "    # Iterate over subdirectories and files in the base directory\n",
    "    for root, dirs, files in os.walk(base_dir):\n",
    "        for file in files:\n",
    "            if file.endswith(\".wav\"):\n",
    "                full_path = os.path.join(root, file)\n",
    "                gfcc = extract_gfcc(full_path)\n",
    "                # Extract label based on subfolder name (use root, not dirs)\n",
    "                condition = os.path.basename(root)\n",
    "                label = condition_to_label.get(condition, len(unique_conditions))\n",
    "                features.append(gfcc)\n",
    "                labels.append(label)\n",
    "\n",
    "    # Pad the GFCC sequences to have a consistent length\n",
    "    X = sequence.pad_sequences(features, padding='post', dtype='float32')  # Updated import\n",
    "\n",
    "    # Convert lists to NumPy arrays\n",
    "    y = np.array(labels)\n",
    "    \n",
    "    print(X.shape)\n",
    "    print(y.shape)\n",
    "        \n",
    "    # Save the NumPy arrays to a JSON file\n",
    "    json_data = {\"features\": X.tolist(), \"labels\": y.tolist()}\n",
    "    json_file_path = \"gfcc_data.json\"\n",
    "    with open(json_file_path, 'w') as json_file:\n",
    "        json.dump(json_data, json_file)\n",
    "                \n",
    "# Execute the main function\n",
    "main()"
   ]
  },
  {
   "cell_type": "markdown",
   "metadata": {},
   "source": [
    "Define all the needs for Training"
   ]
  },
  {
   "cell_type": "code",
   "execution_count": 100,
   "metadata": {},
   "outputs": [],
   "source": [
    "DATA_PATH = \"./gfcc_data.json\"\n",
    "SAVED_MODEL_PATH = \"./Model_ANN.h5\"\n",
    "EPOCHS = 20\n",
    "BATCH_SIZE = 16\n",
    "PATIENCE = 10\n",
    "LEARNING_RATE = 0.0001\n",
    "test_size = 0.15\n",
    "validation_size = 0.075"
   ]
  },
  {
   "cell_type": "markdown",
   "metadata": {},
   "source": [
    "Load the JSON file"
   ]
  },
  {
   "cell_type": "code",
   "execution_count": 101,
   "metadata": {},
   "outputs": [
    {
     "name": "stdout",
     "output_type": "stream",
     "text": [
      "Shape of X: (9472, 98, 13)\n",
      "Shape of y: (9472, 4)\n"
     ]
    }
   ],
   "source": [
    "# Load the JSON file\n",
    "json_file_path = \"gfcc_data.json\"\n",
    "with open(json_file_path, 'r') as json_file:\n",
    "    data = json.load(json_file)\n",
    "\n",
    "X = np.array(data[\"features\"])\n",
    "y = np.array(data[\"labels\"])\n",
    "num_classes = 4\n",
    "y = to_categorical(y, num_classes=num_classes)\n",
    "\n",
    "print(\"Shape of X:\", X.shape)\n",
    "print(\"Shape of y:\", y.shape)"
   ]
  },
  {
   "cell_type": "markdown",
   "metadata": {},
   "source": [
    "Splitting the Data"
   ]
  },
  {
   "cell_type": "code",
   "execution_count": 102,
   "metadata": {},
   "outputs": [
    {
     "name": "stdout",
     "output_type": "stream",
     "text": [
      "(8051, 98, 13) (1421, 98, 13) (8051, 4) (1421, 4)\n",
      "Jumlah data training : 79 %\n",
      "Jumlah data test : 15 %\n",
      "Jumlah data validation : 6 %\n",
      "\n"
     ]
    }
   ],
   "source": [
    "# create train, validation, test split\n",
    "X_train, X_test, y_train, y_test = train_test_split(X, y, test_size=test_size, random_state=42)\n",
    "print(X_train.shape, X_test.shape, y_train.shape, y_test.shape)\n",
    "X_train, X_validation, y_train, y_validation = train_test_split(X_train, y_train, test_size=validation_size, shuffle=True, random_state=42, stratify=y_train)\n",
    "\n",
    "\n",
    "print(\"Jumlah data training :\", round(len(X_train)/len(X)*100), \"%\")\n",
    "print(\"Jumlah data test :\", round(len(X_test)/len(X)*100), \"%\")\n",
    "print(\"Jumlah data validation :\", round(len(X_validation)/len(X)*100), \"%\\n\")"
   ]
  },
  {
   "cell_type": "markdown",
   "metadata": {},
   "source": [
    "Define the ANN Model"
   ]
  },
  {
   "cell_type": "code",
   "execution_count": 103,
   "metadata": {},
   "outputs": [
    {
     "name": "stdout",
     "output_type": "stream",
     "text": [
      "Model: \"sequential_5\"\n",
      "_________________________________________________________________\n",
      " Layer (type)                Output Shape              Param #   \n",
      "=================================================================\n",
      " flatten_5 (Flatten)         (None, 1274)              0         \n",
      "                                                                 \n",
      " dense_30 (Dense)            (None, 512)               652800    \n",
      "                                                                 \n",
      " dense_31 (Dense)            (None, 256)               131328    \n",
      "                                                                 \n",
      " dense_32 (Dense)            (None, 128)               32896     \n",
      "                                                                 \n",
      " dense_33 (Dense)            (None, 64)                8256      \n",
      "                                                                 \n",
      " dense_34 (Dense)            (None, 32)                2080      \n",
      "                                                                 \n",
      " dropout_5 (Dropout)         (None, 32)                0         \n",
      "                                                                 \n",
      " dense_35 (Dense)            (None, 4)                 132       \n",
      "                                                                 \n",
      "=================================================================\n",
      "Total params: 827,492\n",
      "Trainable params: 827,492\n",
      "Non-trainable params: 0\n",
      "_________________________________________________________________\n"
     ]
    }
   ],
   "source": [
    "input_shape = (X_train.shape[1], X_train.shape[2])\n",
    "def build_model(input_shape, loss=\"sparse_categorical_crossentropy\", learning_rate=LEARNING_RATE):\n",
    "\n",
    "    # build network architecture layers\n",
    "    model = tf.keras.Sequential([\n",
    "        # input layer\n",
    "        tf.keras.layers.Flatten(input_shape=input_shape),\n",
    "        # 1st dense layer\n",
    "        tf.keras.layers.Dense(512, activation='relu'),\n",
    "        # 2nd dense layer\n",
    "        tf.keras.layers.Dense(256, activation='relu'),\n",
    "        # 3rd dense layer\n",
    "        tf.keras.layers.Dense(128, activation='relu'),\n",
    "        # 4rd dense layer\n",
    "        tf.keras.layers.Dense(64, activation='relu'),\n",
    "        # 5rd dense layer\n",
    "        tf.keras.layers.Dense(32, activation='relu'),\n",
    "        tf.keras.layers.Dropout(0.3),\n",
    "        # Output layer\n",
    "        tf.keras.layers.Dense(4, activation='softmax')\n",
    "    ])\n",
    "\n",
    "    # compile model\n",
    "    optimiser = tf.keras.optimizers.Adam(learning_rate=LEARNING_RATE)\n",
    "    model.compile(optimizer='adam',\n",
    "                  loss='categorical_crossentropy',\n",
    "                  metrics=['accuracy'])\n",
    "\n",
    "    model.summary()\n",
    "\n",
    "    return model\n",
    "\n",
    "\n",
    "model = build_model(input_shape, learning_rate=LEARNING_RATE)"
   ]
  },
  {
   "cell_type": "markdown",
   "metadata": {},
   "source": [
    "Train the Model"
   ]
  },
  {
   "cell_type": "code",
   "execution_count": 104,
   "metadata": {},
   "outputs": [
    {
     "name": "stdout",
     "output_type": "stream",
     "text": [
      "Shape of X_train: (7447, 98, 13)\n",
      "Shape of y_train_one_hot: (7447, 4)\n",
      "Shape of X_validation: (604, 98, 13)\n",
      "Shape of y_validation_one_hot: (604, 4)\n"
     ]
    }
   ],
   "source": [
    "print(\"Shape of X_train:\", X_train.shape)\n",
    "print(\"Shape of y_train_one_hot:\", y_train.shape)\n",
    "print(\"Shape of X_validation:\", X_validation.shape)\n",
    "print(\"Shape of y_validation_one_hot:\", y_validation.shape)"
   ]
  },
  {
   "cell_type": "code",
   "execution_count": 105,
   "metadata": {},
   "outputs": [
    {
     "name": "stdout",
     "output_type": "stream",
     "text": [
      "Epoch 1/20\n",
      "466/466 [==============================] - 4s 8ms/step - loss: 2.0229 - accuracy: 0.3185 - val_loss: 1.2615 - val_accuracy: 0.3808\n",
      "Epoch 2/20\n",
      "466/466 [==============================] - 3s 7ms/step - loss: 1.2602 - accuracy: 0.3843 - val_loss: 1.1713 - val_accuracy: 0.4685\n",
      "Epoch 3/20\n",
      "466/466 [==============================] - 3s 7ms/step - loss: 1.1529 - accuracy: 0.4701 - val_loss: 1.0328 - val_accuracy: 0.5281\n",
      "Epoch 4/20\n",
      "466/466 [==============================] - 3s 7ms/step - loss: 1.0661 - accuracy: 0.5128 - val_loss: 1.0181 - val_accuracy: 0.5745\n",
      "Epoch 5/20\n",
      "466/466 [==============================] - 3s 7ms/step - loss: 0.9588 - accuracy: 0.5902 - val_loss: 0.8932 - val_accuracy: 0.6606\n",
      "Epoch 6/20\n",
      "466/466 [==============================] - 3s 7ms/step - loss: 0.8408 - accuracy: 0.6495 - val_loss: 0.8206 - val_accuracy: 0.6755\n",
      "Epoch 7/20\n",
      "466/466 [==============================] - 3s 7ms/step - loss: 0.7139 - accuracy: 0.7023 - val_loss: 0.8082 - val_accuracy: 0.6937\n",
      "Epoch 8/20\n",
      "466/466 [==============================] - 3s 7ms/step - loss: 0.6423 - accuracy: 0.7439 - val_loss: 0.5838 - val_accuracy: 0.7815\n",
      "Epoch 9/20\n",
      "466/466 [==============================] - 3s 7ms/step - loss: 0.5620 - accuracy: 0.7939 - val_loss: 0.5733 - val_accuracy: 0.7864\n",
      "Epoch 10/20\n",
      "466/466 [==============================] - 3s 7ms/step - loss: 0.4789 - accuracy: 0.8303 - val_loss: 0.5401 - val_accuracy: 0.8377\n",
      "Epoch 11/20\n",
      "466/466 [==============================] - 3s 7ms/step - loss: 0.4347 - accuracy: 0.8440 - val_loss: 0.4852 - val_accuracy: 0.8162\n",
      "Epoch 12/20\n",
      "466/466 [==============================] - 3s 7ms/step - loss: 0.4117 - accuracy: 0.8555 - val_loss: 0.3917 - val_accuracy: 0.8460\n",
      "Epoch 13/20\n",
      "466/466 [==============================] - 3s 7ms/step - loss: 0.3607 - accuracy: 0.8734 - val_loss: 0.3607 - val_accuracy: 0.8808\n",
      "Epoch 14/20\n",
      "466/466 [==============================] - 3s 7ms/step - loss: 0.3592 - accuracy: 0.8730 - val_loss: 0.5856 - val_accuracy: 0.8477\n",
      "Epoch 15/20\n",
      "466/466 [==============================] - 3s 7ms/step - loss: 0.3017 - accuracy: 0.8888 - val_loss: 0.3148 - val_accuracy: 0.9073\n",
      "Epoch 16/20\n",
      "466/466 [==============================] - 3s 7ms/step - loss: 0.3044 - accuracy: 0.8941 - val_loss: 0.3900 - val_accuracy: 0.8891\n",
      "Epoch 17/20\n",
      "466/466 [==============================] - 3s 7ms/step - loss: 0.3204 - accuracy: 0.8892 - val_loss: 0.4001 - val_accuracy: 0.8758\n",
      "Epoch 18/20\n",
      "466/466 [==============================] - 3s 7ms/step - loss: 0.2646 - accuracy: 0.9072 - val_loss: 0.3981 - val_accuracy: 0.8791\n",
      "Epoch 19/20\n",
      "466/466 [==============================] - 3s 7ms/step - loss: 0.2966 - accuracy: 0.8915 - val_loss: 0.4184 - val_accuracy: 0.8543\n",
      "Epoch 20/20\n",
      "466/466 [==============================] - 3s 7ms/step - loss: 0.2697 - accuracy: 0.9052 - val_loss: 0.3736 - val_accuracy: 0.8957\n"
     ]
    }
   ],
   "source": [
    "import time\n",
    "def train(model, epochs, batch_size, patience, X_train, y_train, X_validation, y_validation):\n",
    "\n",
    "    #earlystop_callback = tf.keras.callbacks.EarlyStopping(monitor=\"accuracy\", min_delta=0.1, patience=patience)\n",
    "\n",
    "    # train model\n",
    "    history = model.fit(X_train,\n",
    "                        y_train,\n",
    "                        epochs=epochs,\n",
    "                        batch_size=batch_size,\n",
    "                        validation_data=(X_validation, y_validation))\n",
    "\n",
    "    return history\n",
    "\n",
    "start_time = time.time()\n",
    "history = train(model, EPOCHS, BATCH_SIZE, PATIENCE, X_train, y_train, X_validation, y_validation)\n",
    "end_time = time.time()"
   ]
  },
  {
   "cell_type": "markdown",
   "metadata": {},
   "source": [
    "Plot the Learning Curve"
   ]
  },
  {
   "cell_type": "code",
   "execution_count": 106,
   "metadata": {},
   "outputs": [
    {
     "data": {
      "image/png": "[encoded data removed]",
      "text/plain": [
       "<Figure size 640x480 with 2 Axes>"
      ]
     },
     "metadata": {},
     "output_type": "display_data"
    }
   ],
   "source": [
    "def plot_history(history):\n",
    "\n",
    "    fig, axs = plt.subplots(2)\n",
    "\n",
    "    # create accuracy subplot\n",
    "    axs[0].plot(history.history[\"accuracy\"], label=\"accuracy\")\n",
    "    axs[0].plot(history.history['val_accuracy'], label=\"val_accuracy\")\n",
    "    axs[0].set_ylabel(\"Accuracy\")\n",
    "    axs[0].legend(loc=\"lower right\")\n",
    "    axs[0].set_title(\"Accuracy evaluation\")\n",
    "\n",
    "    # create loss subplot\n",
    "    axs[1].plot(history.history[\"loss\"], label=\"loss\")\n",
    "    axs[1].plot(history.history['val_loss'], label=\"val_loss\")\n",
    "    axs[1].set_xlabel(\"Epoch\")\n",
    "    axs[1].set_ylabel(\"Loss\")\n",
    "    axs[1].legend(loc=\"upper right\")\n",
    "    axs[1].set_title(\"Loss evaluation\")\n",
    "\n",
    "    fig.tight_layout()\n",
    "    plt.show()\n",
    "    \n",
    "plot_history(history)"
   ]
  },
  {
   "cell_type": "code",
   "execution_count": 107,
   "metadata": {},
   "outputs": [],
   "source": [
    "def predict(model, X, y):\n",
    "\n",
    "    X = X[np.newaxis, ...]\n",
    "    prediction = model.predict(X)\n",
    "    predicted_index = np.argmax(prediction, axis=1)\n",
    "\n",
    "    print(\"Data Asli: {}, Hasil Prediksi: {}\".format(y, predicted_index))"
   ]
  },
  {
   "cell_type": "code",
   "execution_count": 108,
   "metadata": {},
   "outputs": [],
   "source": [
    "from sklearn.metrics import confusion_matrix, ConfusionMatrixDisplay\n",
    "\n",
    "def confusionMatrix(model, X_test, y_test):\n",
    "\n",
    "  pred = model.predict(X_test)\n",
    "  y_pred = []\n",
    "  for i in pred:\n",
    "      y_pred.append(np.argmax(i))\n",
    "\n",
    "  # Ensure y_test_one_hot is used instead of y_test\n",
    "  conf_matrix = confusion_matrix(np.argmax(y_test, axis=1), y_pred)\n",
    "\n",
    "  # Specify the correct display labels for all classes in your dataset\n",
    "  display_labels = ['go', 'stop', 'right', 'left']\n",
    "\n",
    "  # Visualize the confusion matrix\n",
    "  cm_display = ConfusionMatrixDisplay(confusion_matrix=conf_matrix, display_labels=display_labels)\n",
    "  cm_display.plot()\n",
    "  cm_display.ax_.set_title(\"Confusion Matrix\")\n",
    "  plt.show()\n",
    "\n",
    "  # Convert y_test_one_hot to class labels\n",
    "  y_test_labels = np.argmax(y_test, axis=1)\n",
    "  \n",
    "  # Calculate accuracy using class labels\n",
    "  accuracy = accuracy_score(y_test_labels, y_pred)\n",
    "  \n",
    "  # Calculate recall using class labels\n",
    "  recall = recall_score(y_test_labels, y_pred, average='weighted')\n",
    "  # Calculate precision using class labels\n",
    "  precision = precision_score(y_test_labels, y_pred, average='weighted')\n",
    "  F1 = f1_score(y_test_labels, y_pred, average='weighted')\n",
    "\n",
    "  print(\"Accuracy :\", accuracy*100, \" %\")\n",
    "  print(\"Recall :\", recall*100, \" %\")\n",
    "  print(\"Precision :\", precision*100, \" %\")\n",
    "  print(\"F1-Score :\", F1*100, \" %\")"
   ]
  },
  {
   "cell_type": "code",
   "execution_count": 109,
   "metadata": {},
   "outputs": [
    {
     "name": "stdout",
     "output_type": "stream",
     "text": [
      "45/45 [==============================] - 0s 5ms/step - loss: 0.4507 - accuracy: 0.9022\n",
      "\n",
      "Test loss: 0.45067140460014343, \n",
      "Test accuracy: 90.21815657615662\n",
      "1/1 [==============================] - 0s 93ms/step\n",
      "Data Asli: [0. 1. 0. 0.], Hasil Prediksi: [1]\n",
      "1/1 [==============================] - 0s 26ms/step\n",
      "Data Asli: [0. 0. 1. 0.], Hasil Prediksi: [2]\n",
      "1/1 [==============================] - 0s 28ms/step\n",
      "Data Asli: [0. 0. 0. 1.], Hasil Prediksi: [3]\n",
      "1/1 [==============================] - 0s 25ms/step\n",
      "Data Asli: [0. 1. 0. 0.], Hasil Prediksi: [1]\n",
      "1/1 [==============================] - 0s 25ms/step\n",
      "Data Asli: [0. 1. 0. 0.], Hasil Prediksi: [1]\n",
      "1/1 [==============================] - 0s 26ms/step\n",
      "Data Asli: [0. 0. 0. 1.], Hasil Prediksi: [3]\n",
      "1/1 [==============================] - 0s 25ms/step\n",
      "Data Asli: [0. 0. 1. 0.], Hasil Prediksi: [2]\n",
      "1/1 [==============================] - 0s 24ms/step\n",
      "Data Asli: [0. 0. 0. 1.], Hasil Prediksi: [3]\n",
      "1/1 [==============================] - 0s 24ms/step\n",
      "Data Asli: [0. 0. 0. 1.], Hasil Prediksi: [3]\n",
      "1/1 [==============================] - 0s 24ms/step\n",
      "Data Asli: [0. 0. 0. 1.], Hasil Prediksi: [3]\n",
      "1/1 [==============================] - 0s 24ms/step\n",
      "Data Asli: [0. 0. 0. 1.], Hasil Prediksi: [3]\n",
      "1/1 [==============================] - 0s 24ms/step\n",
      "Data Asli: [0. 0. 1. 0.], Hasil Prediksi: [2]\n",
      "1/1 [==============================] - 0s 25ms/step\n",
      "Data Asli: [0. 1. 0. 0.], Hasil Prediksi: [1]\n",
      "1/1 [==============================] - 0s 27ms/step\n",
      "Data Asli: [1. 0. 0. 0.], Hasil Prediksi: [0]\n",
      "1/1 [==============================] - 0s 27ms/step\n",
      "Data Asli: [0. 1. 0. 0.], Hasil Prediksi: [1]\n",
      "1/1 [==============================] - 0s 33ms/step\n",
      "Data Asli: [0. 0. 0. 1.], Hasil Prediksi: [3]\n",
      "1/1 [==============================] - 0s 30ms/step\n",
      "Data Asli: [0. 1. 0. 0.], Hasil Prediksi: [1]\n",
      "1/1 [==============================] - 0s 28ms/step\n",
      "Data Asli: [0. 0. 0. 1.], Hasil Prediksi: [3]\n",
      "1/1 [==============================] - 0s 29ms/step\n",
      "Data Asli: [0. 0. 1. 0.], Hasil Prediksi: [2]\n",
      "1/1 [==============================] - 0s 25ms/step\n",
      "Data Asli: [0. 1. 0. 0.], Hasil Prediksi: [1]\n",
      "45/45 [==============================] - 0s 3ms/step\n"
     ]
    },
    {
     "data": {
      "image/png": "[encoded data removed]",
      "text/plain": [
       "<Figure size 640x480 with 2 Axes>"
      ]
     },
     "metadata": {},
     "output_type": "display_data"
    },
    {
     "name": "stdout",
     "output_type": "stream",
     "text": [
      "Accuracy : 90.21815622800844  %\n",
      "Recall : 90.21815622800844  %\n",
      "Precision : 90.37938880080422  %\n",
      "F1-Score : 90.26260981539816  %\n",
      "Waktu Mulai Komputasi: 1700783603.2932594\n",
      "Waktu Akhir Komputasi: 1700783669.381742\n",
      "Total Waktu Komputasi: 66.08848261833191\n"
     ]
    }
   ],
   "source": [
    "# evaluate network on test set\n",
    "test_loss, test_acc = model.evaluate(X_test, y_test)\n",
    "print(\"\\nTest loss: {}, \\nTest accuracy: {}\".format(test_loss, 100*test_acc))\n",
    "\n",
    "# save model\n",
    "model.save(SAVED_MODEL_PATH)\n",
    "\n",
    "# Uji Prediksi\n",
    "for _ in range(20):\n",
    "    r = random.randint(0,len(X_test)-1)\n",
    "    X_to_predict = X_test[r]\n",
    "    y_to_predict = y_test[r]\n",
    "\n",
    "    predict(model, X_to_predict, y_to_predict)\n",
    "#Visualisasikan hasil Prediksi dan Akurasi\n",
    "confusionMatrix(model, X_test, y_test)\n",
    "\n",
    "print(\"Waktu Mulai Komputasi:\", start_time)\n",
    "print(\"Waktu Akhir Komputasi:\", end_time)\n",
    "print(\"Total Waktu Komputasi:\", end_time - start_time)"
   ]
  }
 ],
 "metadata": {
  "kernelspec": {
   "display_name": "hmms",
   "language": "python",
   "name": "python3"
  },
  "language_info": {
   "codemirror_mode": {
    "name": "ipython",
    "version": 3
   },
   "file_extension": ".py",
   "mimetype": "text/x-python",
   "name": "python",
   "nbconvert_exporter": "python",
   "pygments_lexer": "ipython3",
   "version": "3.10.13"
  }
 },
 "nbformat": 4,
 "nbformat_minor": 2
}
